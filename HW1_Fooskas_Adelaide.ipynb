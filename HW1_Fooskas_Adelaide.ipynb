{
 "cells": [
  {
   "cell_type": "code",
   "execution_count": 24,
   "id": "0cc2e334",
   "metadata": {},
   "outputs": [
    {
     "name": "stdout",
     "output_type": "stream",
     "text": [
      "[30, 35, 40, 45, 50, 55, 60]\n",
      "[60, 55, 50, 45, 40, 35, 30]\n",
      "[65, 60, 55, 50, 45, 40, 35, 30]\n"
     ]
    }
   ],
   "source": [
    "numb=list(range(30,65,5))\n",
    "print(numb)\n",
    "numb=list(range(30,65,5))\n",
    "numb.reverse()\n",
    "print(numb)\n",
    "numb.insert(0,65)\n",
    "print(numb)"
   ]
  },
  {
   "cell_type": "code",
   "execution_count": 23,
   "id": "b566f603",
   "metadata": {},
   "outputs": [
    {
     "name": "stdout",
     "output_type": "stream",
     "text": [
      "[]\n",
      "[0, 1, 2, 3, 4, 5, 6, 7, 8, 9, 10, 11, 12, 13, 14, 15, 16, 17, 18, 19, 20]\n",
      "[1, 2, 3, 4, 5, 6, 7, 8, 9, 10, 11, 12, 13, 14, 15, 16, 17, 18, 19, 20]\n",
      "20\n",
      "20\n",
      "1\n",
      "[1, 2, 3, 4, 5, 6, 7, 8, 9, 10, 11, 12, 13, 14, 15, 16, 17, 18, 19, 20]\n",
      "210\n"
     ]
    }
   ],
   "source": [
    "empty=[]\n",
    "print(empty)\n",
    "empty.append(0)\n",
    "empty.append(1)\n",
    "empty.append(2)\n",
    "empty.append(3)\n",
    "empty.append(4)\n",
    "empty.append(5)\n",
    "empty.append(6)\n",
    "empty.append(7)\n",
    "empty.append(8)\n",
    "empty.append(9)\n",
    "empty.append(10)\n",
    "empty.append(11)\n",
    "empty.append(12)\n",
    "empty.append(13)\n",
    "empty.append(14)\n",
    "empty.append(15)\n",
    "empty.append(16)\n",
    "empty.append(17)\n",
    "empty.append(18)\n",
    "empty.append(19)\n",
    "empty.append(20)\n",
    "print(empty)\n",
    "empty.remove(0)\n",
    "print(empty)\n",
    "print(len(empty))\n",
    "print(max(empty))\n",
    "print(min(empty))\n",
    "print(empty)\n",
    "total=sum(empty)\n",
    "print(total)"
   ]
  },
  {
   "cell_type": "code",
   "execution_count": 15,
   "id": "d9ca1730",
   "metadata": {},
   "outputs": [
    {
     "name": "stdout",
     "output_type": "stream",
     "text": [
      "{'sunny': 'play', 'rainy': 'watch TV', 'cloudy': 'walk'}\n",
      "when sunny let us play\n",
      "when rainy let us watch TV\n",
      "when cloudy let us walk\n",
      "{'sunny': 'play', 'rainy': 'watch TV', 'cloudy': 'walk', 'snowy': 'ski'}\n"
     ]
    }
   ],
   "source": [
    "what_weather={\"sunny\": \"play\", \"rainy\": \"watch TV\", \"cloudy\": \"walk\"}\n",
    "print(what_weather)\n",
    "what_weather={\"sunny\": \"play\", \"rainy\": \"watch TV\", \"cloudy\": \"walk\"}\n",
    "for key,value in what_weather.items():\n",
    "    print(\"when\", key, \"let us\", value)\n",
    "what_weather.update({\"snowy\":\"ski\"})\n",
    "print(what_weather)"
   ]
  }
 ],
 "metadata": {
  "kernelspec": {
   "display_name": "Python 3 (ipykernel)",
   "language": "python",
   "name": "python3"
  },
  "language_info": {
   "codemirror_mode": {
    "name": "ipython",
    "version": 3
   },
   "file_extension": ".py",
   "mimetype": "text/x-python",
   "name": "python",
   "nbconvert_exporter": "python",
   "pygments_lexer": "ipython3",
   "version": "3.9.12"
  }
 },
 "nbformat": 4,
 "nbformat_minor": 5
}
